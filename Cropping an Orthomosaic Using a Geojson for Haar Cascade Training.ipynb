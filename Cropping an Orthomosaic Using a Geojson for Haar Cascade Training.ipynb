{
 "cells": [
  {
   "cell_type": "code",
   "execution_count": 3,
   "metadata": {},
   "outputs": [],
   "source": [
    "import cv2\n",
    "import geopandas as gpd\n",
    "import tifffile as tf\n",
    "import numpy as np\n",
    "import itertools\n",
    "from osgeo import gdal\n",
    "import pandas as pd\n",
    "import os\n",
    "import matplotlib.pyplot as plt\n",
    "import matplotlib.figure"
   ]
  },
  {
   "cell_type": "code",
   "execution_count": 6,
   "metadata": {},
   "outputs": [],
   "source": [
    "# Author: Travis Simmons\n",
    "# Date: 7/20/2020\n",
    "# Objective: Creating a repository of black and white photos of dirt or lettuce for HAAR Cascade training.\n",
    "\n",
    "#Imputting a utm referenced ortho\n",
    "utm_ortho = r\"C:\\Users\\Travis\\Desktop\\Results\\Gantry Orthos\\Lettuce_2.24.20_15m_Ortho.tif\"\n",
    "\n",
    "#Imputting the geojson for selection, you should have a geojson for false immages and one for positive\n",
    "selection_boxes = gpd.read_file(r\"C:\\Users\\Travis\\Desktop\\Results\\season10_individual_lettuce.geojson\")\n",
    "#selection_boxes = gpd.read_file(r\"C:\\Users\\Travis\\Desktop\\new_error\\false_selection.geojson\")\n",
    "\n",
    "# What file do you want to store the pictures in?\n",
    "outpath = \"C:\\\\Users\\\\Travis\\\\Desktop\\\\Results\\\\Gantry Orthos\\\\p\\\\\"\n",
    "\n",
    "#Converting it to EPSG: 4326 and Opening it in gdal\n",
    "input_raster = gdal.Open(utm_ortho)\n",
    "output_raster = r\"C:\\Users\\Travis\\Desktop\\new_error\\gantry_EPSG_raster.tif\"\n",
    "gdal.Warp(output_raster,input_raster,dstSRS='EPSG:4326')\n",
    "EPSG_ortho = r\"C:\\Users\\Travis\\Desktop\\new_error\\gantry_EPSG_raster.tif\"\n",
    "right_ortho = gdal.Open(EPSG_ortho)\n",
    "\n",
    "#Looping throught the selection boxes\n",
    "for index, row in selection_boxes.bounds.iterrows():\n",
    "    \n",
    "    minx = \trow.minx\n",
    "    maxy = row.maxy\n",
    "    maxx = row.maxx\n",
    "    miny = row.miny\n",
    "    \n",
    "    # Change the \"false\" to \"true\" if you are making positives\n",
    "    out = outpath+\"true\"+f'{index}'+\".tif\"\n",
    "    \n",
    "    \n",
    "    #Cropping the ortho using the selection boxes\n",
    "    gdal.Translate(out, right_ortho, projWin = [minx, maxy, maxx, miny])\n",
    "    \n",
    "    \n",
    "    #Turning each image gray for HAAR cascade training\n",
    "    img_gray = cv2.imread(out, cv2.IMREAD_GRAYSCALE)\n",
    "    cv2.imwrite(out,img_gray)"
   ]
  },
  {
   "cell_type": "code",
   "execution_count": null,
   "metadata": {},
   "outputs": [],
   "source": []
  }
 ],
 "metadata": {
  "kernelspec": {
   "display_name": "Python 3",
   "language": "python",
   "name": "python3"
  },
  "language_info": {
   "codemirror_mode": {
    "name": "ipython",
    "version": 3
   },
   "file_extension": ".py",
   "mimetype": "text/x-python",
   "name": "python",
   "nbconvert_exporter": "python",
   "pygments_lexer": "ipython3",
   "version": "3.8.3"
  }
 },
 "nbformat": 4,
 "nbformat_minor": 4
}
